{
 "cells": [
  {
   "cell_type": "markdown",
   "metadata": {},
   "source": [
    "Factorial of a number"
   ]
  },
  {
   "cell_type": "code",
   "execution_count": 9,
   "metadata": {},
   "outputs": [
    {
     "name": "stdout",
     "output_type": "stream",
     "text": [
      "Enter number5\n",
      "Factorial for 5 is 120\n"
     ]
    }
   ],
   "source": [
    "n=int(input(\"Enter number\"))\n",
    "f=1\n",
    "for i in range(1,n+1):\n",
    "    f = f * i\n",
    "print(\"Factorial for\",n, \"is\", f)"
   ]
  },
  {
   "cell_type": "markdown",
   "metadata": {},
   "source": [
    "Display Multiplication table"
   ]
  },
  {
   "cell_type": "code",
   "execution_count": 10,
   "metadata": {
    "scrolled": true
   },
   "outputs": [
    {
     "name": "stdout",
     "output_type": "stream",
     "text": [
      "Enter the number for which you wanted to see the table : 5\n",
      "5 * 1 = 5\n",
      "5 * 2 = 10\n",
      "5 * 3 = 15\n",
      "5 * 4 = 20\n",
      "5 * 5 = 25\n",
      "5 * 6 = 30\n",
      "5 * 7 = 35\n",
      "5 * 8 = 40\n",
      "5 * 9 = 45\n",
      "5 * 10 = 50\n"
     ]
    }
   ],
   "source": [
    "n=int(input(\"Enter the number for which you wanted to see the table : \"))\n",
    "for i in range(1,11):\n",
    "    print(n, \"*\", i, \"=\",n*i)\n"
   ]
  },
  {
   "cell_type": "markdown",
   "metadata": {},
   "source": [
    "Print Fibonacci Series"
   ]
  },
  {
   "cell_type": "code",
   "execution_count": 18,
   "metadata": {},
   "outputs": [
    {
     "name": "stdout",
     "output_type": "stream",
     "text": [
      "Enter the number for Fibonacci: 5\n",
      "0 , 1, 1, 2, 3, "
     ]
    }
   ],
   "source": [
    "n=int(input(\"Enter the number for Fibonacci: \"))\n",
    "first=0\n",
    "second=1\n",
    "print(first, \",\", second, end=\", \")\n",
    "for i in range(2,n):\n",
    "    next = first + second\n",
    "    print (next,end=\", \")\n",
    "    first = second\n",
    "    second = next"
   ]
  },
  {
   "cell_type": "markdown",
   "metadata": {},
   "source": [
    "Armstrong number"
   ]
  },
  {
   "cell_type": "code",
   "execution_count": 28,
   "metadata": {
    "scrolled": false
   },
   "outputs": [
    {
     "name": "stdout",
     "output_type": "stream",
     "text": [
      "Enter the number : 370\n",
      "370 is an Armstrong\n"
     ]
    }
   ],
   "source": [
    "n=int(input(\"Enter the number : \"))\n",
    "sum=0\n",
    "temp=n\n",
    "while temp>0:\n",
    "    r= temp%10\n",
    "    sum = sum+r*r*r\n",
    "    temp//=10\n",
    "if n == sum:\n",
    "    print(n, \"is an Armstrong\")\n",
    "else:\n",
    "    print (n, \"Not an Armstrong\")\n",
    "    "
   ]
  },
  {
   "cell_type": "markdown",
   "metadata": {},
   "source": [
    "Find Armstrong number in an interval"
   ]
  },
  {
   "cell_type": "code",
   "execution_count": 37,
   "metadata": {},
   "outputs": [
    {
     "name": "stdout",
     "output_type": "stream",
     "text": [
      "Enter mininum range: 100\n",
      "Enter maximum range: 1000\n",
      "153\n",
      "370\n",
      "371\n",
      "407\n"
     ]
    }
   ],
   "source": [
    "a=int(input(\"Enter mininum range: \"))\n",
    "b=int(input(\"Enter maximum range: \"))\n",
    "for n in range(a,b):\n",
    "    sum=0\n",
    "    temp=n\n",
    "    while temp>0:\n",
    "        r = temp%10\n",
    "        sum = sum + r*r*r\n",
    "        temp//=10\n",
    "    if sum==n:\n",
    "        print(n)"
   ]
  },
  {
   "cell_type": "markdown",
   "metadata": {},
   "source": [
    "Find the sum of natural numbers"
   ]
  },
  {
   "cell_type": "code",
   "execution_count": 47,
   "metadata": {},
   "outputs": [
    {
     "name": "stdout",
     "output_type": "stream",
     "text": [
      "Enter 1 for loop and 2 for formaula :1\n",
      "Enter a positive number : 76\n",
      "2926\n"
     ]
    }
   ],
   "source": [
    "a=int(input(\"Enter 1 for loop and 2 for formaula :\"))\n",
    "n=int(input(\"Enter a positive number : \"))\n",
    "if a==1:\n",
    "    sum=0\n",
    "    while n >0:\n",
    "        sum=sum+n\n",
    "        n=n-1\n",
    "    print(sum)\n",
    "    \n",
    "else:\n",
    "    sum = 0.5 *n *(n+1)\n",
    "    print(sum)\n",
    "        "
   ]
  },
  {
   "cell_type": "code",
   "execution_count": null,
   "metadata": {},
   "outputs": [],
   "source": []
  }
 ],
 "metadata": {
  "kernelspec": {
   "display_name": "Python 3",
   "language": "python",
   "name": "python3"
  },
  "language_info": {
   "codemirror_mode": {
    "name": "ipython",
    "version": 3
   },
   "file_extension": ".py",
   "mimetype": "text/x-python",
   "name": "python",
   "nbconvert_exporter": "python",
   "pygments_lexer": "ipython3",
   "version": "3.8.5"
  }
 },
 "nbformat": 4,
 "nbformat_minor": 4
}
