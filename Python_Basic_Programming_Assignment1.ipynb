{
 "cells": [
  {
   "cell_type": "markdown",
   "metadata": {},
   "source": [
    "1.\tWrite a Python program to print \"Hello Python\"?"
   ]
  },
  {
   "cell_type": "code",
   "execution_count": 2,
   "metadata": {
    "scrolled": true
   },
   "outputs": [
    {
     "name": "stdout",
     "output_type": "stream",
     "text": [
      "Hello World\n"
     ]
    }
   ],
   "source": [
    "print(\"Hello World\")"
   ]
  },
  {
   "cell_type": "markdown",
   "metadata": {},
   "source": [
    "2. Write a Python program for addition and division?"
   ]
  },
  {
   "cell_type": "code",
   "execution_count": 10,
   "metadata": {},
   "outputs": [
    {
     "name": "stdout",
     "output_type": "stream",
     "text": [
      "Enter first number100\n",
      "Enter second number20\n",
      "Select the Operation +,/\n",
      "Enter the operand/\n",
      "100 / 20 : 5.0\n"
     ]
    }
   ],
   "source": [
    "A=int(input(\"Enter first number :\"))\n",
    "B=int(input(\"Enter second number :\"))\n",
    "print(\"Select the Operation +,/\")\n",
    "X = input(\"Enter the operand\")\n",
    "if X == '+':\n",
    "    c = A + B\n",
    "elif X == '/':\n",
    "    c = A / B\n",
    "else:\n",
    "    print(\"Input isn't recognized\")\n",
    "print(A, X, B ,\":\", c)"
   ]
  },
  {
   "cell_type": "markdown",
   "metadata": {},
   "source": [
    "3.Area of Triangle"
   ]
  },
  {
   "cell_type": "code",
   "execution_count": 15,
   "metadata": {},
   "outputs": [
    {
     "name": "stdout",
     "output_type": "stream",
     "text": [
      "Enter side a3\n",
      "Enter side b3\n",
      "Enter side c3\n",
      "Area of the Triangle 3.897114317029974\n"
     ]
    }
   ],
   "source": [
    "import math\n",
    "a=int(input(\"Enter side a :\"))\n",
    "b=int(input(\"Enter side b :\"))\n",
    "c=int(input(\"Enter side c :\"))\n",
    "s = (a + b + c) / 2\n",
    "x = s * (s - a) * (s - b) * (s - c)\n",
    "Area = math.sqrt(x)\n",
    "Area\n",
    "print( \"Area of the Triangle\" , Area)"
   ]
  },
  {
   "cell_type": "markdown",
   "metadata": {},
   "source": [
    "4. Swap two variables"
   ]
  },
  {
   "cell_type": "code",
   "execution_count": 21,
   "metadata": {},
   "outputs": [
    {
     "name": "stdout",
     "output_type": "stream",
     "text": [
      "Enter Variable 1: 7\n",
      " Enter Variable 2:9\n",
      "a =  9\n",
      "b =  7\n"
     ]
    }
   ],
   "source": [
    "a=input( \"Enter Variable 1: \")\n",
    "b=input( \" Enter Variable 2:\")\n",
    "a,b = b,a\n",
    "print( \"a = \", a)\n",
    "print( \"b = \", b)"
   ]
  },
  {
   "cell_type": "markdown",
   "metadata": {},
   "source": [
    "5. PRint random number"
   ]
  },
  {
   "cell_type": "code",
   "execution_count": 24,
   "metadata": {},
   "outputs": [
    {
     "name": "stdout",
     "output_type": "stream",
     "text": [
      "297\n"
     ]
    }
   ],
   "source": [
    "import random\n",
    "print(random.randint(0,999))"
   ]
  },
  {
   "cell_type": "code",
   "execution_count": null,
   "metadata": {},
   "outputs": [],
   "source": []
  }
 ],
 "metadata": {
  "kernelspec": {
   "display_name": "Python 3",
   "language": "python",
   "name": "python3"
  },
  "language_info": {
   "codemirror_mode": {
    "name": "ipython",
    "version": 3
   },
   "file_extension": ".py",
   "mimetype": "text/x-python",
   "name": "python",
   "nbconvert_exporter": "python",
   "pygments_lexer": "ipython3",
   "version": "3.8.5"
  }
 },
 "nbformat": 4,
 "nbformat_minor": 4
}
