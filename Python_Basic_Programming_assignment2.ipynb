{
 "cells": [
  {
   "cell_type": "markdown",
   "metadata": {},
   "source": [
    "1. Program to convert kilometers to miles"
   ]
  },
  {
   "cell_type": "code",
   "execution_count": 4,
   "metadata": {},
   "outputs": [
    {
     "name": "stdout",
     "output_type": "stream",
     "text": [
      "Enter the KMS :5\n",
      "Miles for 5.0 KMS is : 3.1\n"
     ]
    }
   ],
   "source": [
    "a=float(input( \"Enter the KMS :\"))\n",
    "b = a * 0.62\n",
    "print ( \"Miles for\",a ,\"KMS is :\", b)"
   ]
  },
  {
   "cell_type": "markdown",
   "metadata": {},
   "source": [
    "2. Program to celsius to fahrenheit"
   ]
  },
  {
   "cell_type": "code",
   "execution_count": 8,
   "metadata": {},
   "outputs": [
    {
     "name": "stdout",
     "output_type": "stream",
     "text": [
      "Enter Celsius :37.5\n",
      " Fahrenheit for 37.5 Celsius is 99.5\n"
     ]
    }
   ],
   "source": [
    "a = float(input ( \"Enter Celsius :\"))\n",
    "b = (a * 1.8) + 32\n",
    "print ( \" Fahrenheit for\", a ,\"Celsius is\", b)"
   ]
  },
  {
   "cell_type": "markdown",
   "metadata": {},
   "source": [
    "3. Program to display calendar"
   ]
  },
  {
   "cell_type": "code",
   "execution_count": 16,
   "metadata": {
    "scrolled": false
   },
   "outputs": [
    {
     "name": "stdout",
     "output_type": "stream",
     "text": [
      "Enter Year: 2021\n",
      " Enter Month: 11\n",
      "   November 2021\n",
      "Mo Tu We Th Fr Sa Su\n",
      " 1  2  3  4  5  6  7\n",
      " 8  9 10 11 12 13 14\n",
      "15 16 17 18 19 20 21\n",
      "22 23 24 25 26 27 28\n",
      "29 30\n",
      "\n"
     ]
    }
   ],
   "source": [
    "import calendar\n",
    "Year=int(input(\"Enter Year: \"))\n",
    "Month=int(input(\" Enter Month: \"))\n",
    "print(calendar.month(Year,Month))"
   ]
  },
  {
   "cell_type": "markdown",
   "metadata": {},
   "source": [
    "Solve quadratic equation"
   ]
  },
  {
   "cell_type": "code",
   "execution_count": 20,
   "metadata": {
    "scrolled": true
   },
   "outputs": [
    {
     "name": "stdout",
     "output_type": "stream",
     "text": [
      "Enter a from ax*x + b*x + c :3\n",
      "Enter b from ax*x + b*x + c :2\n",
      "Enter c from ax*x + b*x + c :1\n",
      "(-0.3333333333333333-0.47140452079103173j) (-0.3333333333333333+0.47140452079103173j) are the solutions for the quadratic equation\n"
     ]
    }
   ],
   "source": [
    "import cmath\n",
    "a=int(input(\"Enter a from ax*x + b*x + c :\"))\n",
    "b=int(input(\"Enter b from ax*x + b*x + c :\"))\n",
    "c=int(input(\"Enter c from ax*x + b*x + c :\"))\n",
    "d = b * b - 4 * a * c\n",
    "sol1 = (-b-cmath.sqrt(d))/(2*a)\n",
    "sol2 = (-b+cmath.sqrt(d))/(2*a)\n",
    "print( sol1,sol2, \"are the solutions for the quadratic equation\")"
   ]
  },
  {
   "cell_type": "markdown",
   "metadata": {},
   "source": [
    "5.Swap two variables"
   ]
  },
  {
   "cell_type": "code",
   "execution_count": 21,
   "metadata": {},
   "outputs": [
    {
     "name": "stdout",
     "output_type": "stream",
     "text": [
      "Enter a: 6\n",
      "Enter b: 9\n",
      "a: 9 b: 6\n"
     ]
    }
   ],
   "source": [
    "a=input(\"Enter a: \")\n",
    "b=input(\"Enter b: \")\n",
    "a,b=b,a\n",
    "print(\"a:\",a, \"b:\",b)"
   ]
  },
  {
   "cell_type": "code",
   "execution_count": null,
   "metadata": {},
   "outputs": [],
   "source": []
  }
 ],
 "metadata": {
  "kernelspec": {
   "display_name": "Python 3",
   "language": "python",
   "name": "python3"
  },
  "language_info": {
   "codemirror_mode": {
    "name": "ipython",
    "version": 3
   },
   "file_extension": ".py",
   "mimetype": "text/x-python",
   "name": "python",
   "nbconvert_exporter": "python",
   "pygments_lexer": "ipython3",
   "version": "3.8.5"
  }
 },
 "nbformat": 4,
 "nbformat_minor": 4
}
