{
 "cells": [
  {
   "cell_type": "markdown",
   "metadata": {},
   "source": [
    "Cube sum of first n natural numbers"
   ]
  },
  {
   "cell_type": "code",
   "execution_count": 3,
   "metadata": {},
   "outputs": [
    {
     "name": "stdout",
     "output_type": "stream",
     "text": [
      "Enter a positive number : 3\n",
      "36\n"
     ]
    }
   ],
   "source": [
    "n=int(input(\"Enter a positive number : \"))\n",
    "sum=0\n",
    "while n >0:\n",
    "    sum=sum+(n*n*n)\n",
    "    n=n-1\n",
    "print(sum)"
   ]
  },
  {
   "cell_type": "markdown",
   "metadata": {},
   "source": [
    "Fibonacci USing recursion"
   ]
  },
  {
   "cell_type": "code",
   "execution_count": 15,
   "metadata": {
    "scrolled": true
   },
   "outputs": [
    {
     "name": "stdout",
     "output_type": "stream",
     "text": [
      "Enter the number for Fibonacci : 5\n",
      "0, 1, 1, 2, 3, "
     ]
    }
   ],
   "source": [
    "n=int(input(\"Enter the number for Fibonacci : \"))\n",
    "def Fib(n):\n",
    "    if n <=1:\n",
    "        return n\n",
    "    else:\n",
    "        return Fib(n-1)+Fib(n-2)\n",
    "for i in range(n):\n",
    "    print(Fib(i), end=\", \")"
   ]
  },
  {
   "cell_type": "markdown",
   "metadata": {},
   "source": [
    "Factorial using recursion"
   ]
  },
  {
   "cell_type": "code",
   "execution_count": 1,
   "metadata": {},
   "outputs": [
    {
     "name": "stdout",
     "output_type": "stream",
     "text": [
      "Enter the number for Factorial : 5\n",
      "120\n"
     ]
    }
   ],
   "source": [
    "n=int(input(\"Enter the number for Factorial : \"))\n",
    "def Fact(n):\n",
    "    if n <=1:\n",
    "        return n\n",
    "    else:\n",
    "        return n*Fact(n-1)\n",
    "print(Fact(n))"
   ]
  },
  {
   "cell_type": "markdown",
   "metadata": {},
   "source": [
    "Calculate Body MAss Index"
   ]
  },
  {
   "cell_type": "code",
   "execution_count": 17,
   "metadata": {},
   "outputs": [
    {
     "name": "stdout",
     "output_type": "stream",
     "text": [
      "Enter height mts : 1.6\n",
      "Enter weight kgs : 75\n",
      "BMI :  29.296874999999993\n",
      "Overweight\n"
     ]
    }
   ],
   "source": [
    "h = float(input(\"Enter height mts : \"))\n",
    "w = float(input( \"Enter weight kgs : \"))\n",
    "def BMI(h,w):\n",
    "    bmi = w/(h*h)\n",
    "    return bmi\n",
    "bmi= BMI(h,w)\n",
    "print( \"BMI : \", bmi)\n",
    "if (bmi < 18.5): \n",
    "  print(\"Underweight\") \n",
    "\n",
    "elif ( bmi >= 18.5 and bmi < 24.9): \n",
    "  print(\"Healthy\") \n",
    "\n",
    "elif ( bmi >= 24.9 and bmi < 30): \n",
    "  print(\"Overweight\") \n",
    "\n",
    "elif ( bmi >=30): \n",
    "  print(\"Obese\")"
   ]
  },
  {
   "cell_type": "markdown",
   "metadata": {},
   "source": [
    "Calculate the natural logarithm of any number\n"
   ]
  },
  {
   "cell_type": "code",
   "execution_count": 1,
   "metadata": {},
   "outputs": [
    {
     "name": "stdout",
     "output_type": "stream",
     "text": [
      "Enter number : 2.7183\n",
      "1.0000066849139877\n"
     ]
    }
   ],
   "source": [
    "import math\n",
    "n=float(input(\"Enter number : \"))\n",
    "print(math.log(n))"
   ]
  },
  {
   "cell_type": "code",
   "execution_count": null,
   "metadata": {},
   "outputs": [],
   "source": []
  },
  {
   "cell_type": "code",
   "execution_count": null,
   "metadata": {},
   "outputs": [],
   "source": []
  }
 ],
 "metadata": {
  "kernelspec": {
   "display_name": "Python 3",
   "language": "python",
   "name": "python3"
  },
  "language_info": {
   "codemirror_mode": {
    "name": "ipython",
    "version": 3
   },
   "file_extension": ".py",
   "mimetype": "text/x-python",
   "name": "python",
   "nbconvert_exporter": "python",
   "pygments_lexer": "ipython3",
   "version": "3.8.5"
  }
 },
 "nbformat": 4,
 "nbformat_minor": 4
}
